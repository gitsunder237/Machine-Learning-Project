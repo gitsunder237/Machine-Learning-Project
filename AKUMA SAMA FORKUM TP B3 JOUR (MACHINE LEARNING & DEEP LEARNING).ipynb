{
 "cells": [
  {
   "cell_type": "markdown",
   "id": "97eceb55",
   "metadata": {},
   "source": [
    "#### I. IMPORTEZ LE JEU DE DONNEES \"Churn_Modelling.csv\""
   ]
  },
  {
   "cell_type": "code",
   "execution_count": 9,
   "id": "8fee4d38",
   "metadata": {},
   "outputs": [],
   "source": [
    "import numpy as np\n",
    "import pandas as pd\n",
    "from sklearn.model_selection import train_test_split\n",
    "from sklearn.preprocessing import LabelEncoder, OrdinalEncoder,  LabelBinarizer, OneHotEncoder\n",
    "from sklearn.preprocessing import StandardScaler , MinMaxScaler, RobustScaler, MaxAbsScaler\n",
    "from sklearn.impute import SimpleImputer, KNNImputer\n",
    "from sklearn.compose import make_column_transformer, make_column_selector\n",
    "from sklearn.pipeline import make_pipeline\n",
    "from sklearn.model_selection import GridSearchCV\n",
    "from sklearn.neighbors import KNeighborsClassifier\n",
    "from sklearn.metrics import accuracy_score, recall_score, precision_score, f1_score\n",
    "from sklearn.tree import DecisionTreeClassifier\n",
    "from sklearn.linear_model import LogisticRegression\n",
    "import seaborn as sns\n",
    "import  h5py\n",
    "import tqdm as tqdm"
   ]
  },
  {
   "cell_type": "code",
   "execution_count": 10,
   "id": "437cece2",
   "metadata": {},
   "outputs": [
    {
     "data": {
      "text/html": [
       "<div>\n",
       "<style scoped>\n",
       "    .dataframe tbody tr th:only-of-type {\n",
       "        vertical-align: middle;\n",
       "    }\n",
       "\n",
       "    .dataframe tbody tr th {\n",
       "        vertical-align: top;\n",
       "    }\n",
       "\n",
       "    .dataframe thead th {\n",
       "        text-align: right;\n",
       "    }\n",
       "</style>\n",
       "<table border=\"1\" class=\"dataframe\">\n",
       "  <thead>\n",
       "    <tr style=\"text-align: right;\">\n",
       "      <th></th>\n",
       "      <th>RowNumber</th>\n",
       "      <th>CustomerId</th>\n",
       "      <th>Surname</th>\n",
       "      <th>CreditScore</th>\n",
       "      <th>Geography</th>\n",
       "      <th>Gender</th>\n",
       "      <th>Age</th>\n",
       "      <th>Tenure</th>\n",
       "      <th>Balance</th>\n",
       "      <th>NumOfProducts</th>\n",
       "      <th>HasCrCard</th>\n",
       "      <th>IsActiveMember</th>\n",
       "      <th>EstimatedSalary</th>\n",
       "      <th>Exited</th>\n",
       "    </tr>\n",
       "  </thead>\n",
       "  <tbody>\n",
       "    <tr>\n",
       "      <th>0</th>\n",
       "      <td>1</td>\n",
       "      <td>15634602</td>\n",
       "      <td>Hargrave</td>\n",
       "      <td>619</td>\n",
       "      <td>France</td>\n",
       "      <td>Female</td>\n",
       "      <td>42</td>\n",
       "      <td>2</td>\n",
       "      <td>0.00</td>\n",
       "      <td>1</td>\n",
       "      <td>1</td>\n",
       "      <td>1</td>\n",
       "      <td>101348.88</td>\n",
       "      <td>1</td>\n",
       "    </tr>\n",
       "    <tr>\n",
       "      <th>1</th>\n",
       "      <td>2</td>\n",
       "      <td>15647311</td>\n",
       "      <td>Hill</td>\n",
       "      <td>608</td>\n",
       "      <td>Spain</td>\n",
       "      <td>Female</td>\n",
       "      <td>41</td>\n",
       "      <td>1</td>\n",
       "      <td>83807.86</td>\n",
       "      <td>1</td>\n",
       "      <td>0</td>\n",
       "      <td>1</td>\n",
       "      <td>112542.58</td>\n",
       "      <td>0</td>\n",
       "    </tr>\n",
       "    <tr>\n",
       "      <th>2</th>\n",
       "      <td>3</td>\n",
       "      <td>15619304</td>\n",
       "      <td>Onio</td>\n",
       "      <td>502</td>\n",
       "      <td>France</td>\n",
       "      <td>Female</td>\n",
       "      <td>42</td>\n",
       "      <td>8</td>\n",
       "      <td>159660.80</td>\n",
       "      <td>3</td>\n",
       "      <td>1</td>\n",
       "      <td>0</td>\n",
       "      <td>113931.57</td>\n",
       "      <td>1</td>\n",
       "    </tr>\n",
       "  </tbody>\n",
       "</table>\n",
       "</div>"
      ],
      "text/plain": [
       "   RowNumber  CustomerId   Surname  CreditScore Geography  Gender  Age  \\\n",
       "0          1    15634602  Hargrave          619    France  Female   42   \n",
       "1          2    15647311      Hill          608     Spain  Female   41   \n",
       "2          3    15619304      Onio          502    France  Female   42   \n",
       "\n",
       "   Tenure    Balance  NumOfProducts  HasCrCard  IsActiveMember  \\\n",
       "0       2       0.00              1          1               1   \n",
       "1       1   83807.86              1          0               1   \n",
       "2       8  159660.80              3          1               0   \n",
       "\n",
       "   EstimatedSalary  Exited  \n",
       "0        101348.88       1  \n",
       "1        112542.58       0  \n",
       "2        113931.57       1  "
      ]
     },
     "execution_count": 10,
     "metadata": {},
     "output_type": "execute_result"
    }
   ],
   "source": [
    "### Ecrire le code y afférent ici\n",
    "raw_data = pd.read_csv(\"Churn_Modelling.csv\")\n",
    "raw_data.head(3)"
   ]
  },
  {
   "cell_type": "code",
   "execution_count": 11,
   "id": "98265602",
   "metadata": {},
   "outputs": [],
   "source": [
    "### Le jeu de données contient des données bancaires\n",
    "### L'on souhaite prédire les clients susceptibles de quitter la banque\n",
    "### La variable d'intérêt: \"Exited\""
   ]
  },
  {
   "cell_type": "markdown",
   "id": "177c9a40",
   "metadata": {},
   "source": [
    "### II. DATA PRE-PROCESSING"
   ]
  },
  {
   "cell_type": "markdown",
   "id": "0a4af5de",
   "metadata": {},
   "source": [
    "#### II.1 Nettoyage des données"
   ]
  },
  {
   "cell_type": "code",
   "execution_count": 12,
   "id": "5b219b25",
   "metadata": {},
   "outputs": [
    {
     "data": {
      "text/html": [
       "<div>\n",
       "<style scoped>\n",
       "    .dataframe tbody tr th:only-of-type {\n",
       "        vertical-align: middle;\n",
       "    }\n",
       "\n",
       "    .dataframe tbody tr th {\n",
       "        vertical-align: top;\n",
       "    }\n",
       "\n",
       "    .dataframe thead th {\n",
       "        text-align: right;\n",
       "    }\n",
       "</style>\n",
       "<table border=\"1\" class=\"dataframe\">\n",
       "  <thead>\n",
       "    <tr style=\"text-align: right;\">\n",
       "      <th></th>\n",
       "      <th>CreditScore</th>\n",
       "      <th>Geography</th>\n",
       "      <th>Gender</th>\n",
       "      <th>Age</th>\n",
       "      <th>Tenure</th>\n",
       "      <th>Balance</th>\n",
       "      <th>NumOfProducts</th>\n",
       "      <th>HasCrCard</th>\n",
       "      <th>IsActiveMember</th>\n",
       "      <th>EstimatedSalary</th>\n",
       "      <th>Exited</th>\n",
       "    </tr>\n",
       "  </thead>\n",
       "  <tbody>\n",
       "    <tr>\n",
       "      <th>0</th>\n",
       "      <td>619</td>\n",
       "      <td>France</td>\n",
       "      <td>Female</td>\n",
       "      <td>42</td>\n",
       "      <td>2</td>\n",
       "      <td>0.00</td>\n",
       "      <td>1</td>\n",
       "      <td>1</td>\n",
       "      <td>1</td>\n",
       "      <td>101348.88</td>\n",
       "      <td>1</td>\n",
       "    </tr>\n",
       "    <tr>\n",
       "      <th>1</th>\n",
       "      <td>608</td>\n",
       "      <td>Spain</td>\n",
       "      <td>Female</td>\n",
       "      <td>41</td>\n",
       "      <td>1</td>\n",
       "      <td>83807.86</td>\n",
       "      <td>1</td>\n",
       "      <td>0</td>\n",
       "      <td>1</td>\n",
       "      <td>112542.58</td>\n",
       "      <td>0</td>\n",
       "    </tr>\n",
       "    <tr>\n",
       "      <th>2</th>\n",
       "      <td>502</td>\n",
       "      <td>France</td>\n",
       "      <td>Female</td>\n",
       "      <td>42</td>\n",
       "      <td>8</td>\n",
       "      <td>159660.80</td>\n",
       "      <td>3</td>\n",
       "      <td>1</td>\n",
       "      <td>0</td>\n",
       "      <td>113931.57</td>\n",
       "      <td>1</td>\n",
       "    </tr>\n",
       "  </tbody>\n",
       "</table>\n",
       "</div>"
      ],
      "text/plain": [
       "   CreditScore Geography  Gender  Age  Tenure    Balance  NumOfProducts  \\\n",
       "0          619    France  Female   42       2       0.00              1   \n",
       "1          608     Spain  Female   41       1   83807.86              1   \n",
       "2          502    France  Female   42       8  159660.80              3   \n",
       "\n",
       "   HasCrCard  IsActiveMember  EstimatedSalary  Exited  \n",
       "0          1               1        101348.88       1  \n",
       "1          0               1        112542.58       0  \n",
       "2          1               0        113931.57       1  "
      ]
     },
     "execution_count": 12,
     "metadata": {},
     "output_type": "execute_result"
    }
   ],
   "source": [
    "# i) Le jeu de données comporte-t-il des colonnes qui ne peuvent être\n",
    "#    considérées comme des variables ? (Oui ou Non)\n",
    "\n",
    "# Réponse attendue ici: \n",
    "#Oui\n",
    "# ii) Si Oui, quel traitement vous semble-t-il approprié pour ces colonnes ?\n",
    "\n",
    "## Code y afférent ici: \n",
    "data_quant = raw_data.drop([\"RowNumber\",\"Surname\",\"CustomerId\"], axis = 1)\n",
    "data_quant.head(3)"
   ]
  },
  {
   "cell_type": "code",
   "execution_count": 13,
   "id": "5b9b7593",
   "metadata": {},
   "outputs": [
    {
     "data": {
      "text/html": [
       "<div>\n",
       "<style scoped>\n",
       "    .dataframe tbody tr th:only-of-type {\n",
       "        vertical-align: middle;\n",
       "    }\n",
       "\n",
       "    .dataframe tbody tr th {\n",
       "        vertical-align: top;\n",
       "    }\n",
       "\n",
       "    .dataframe thead th {\n",
       "        text-align: right;\n",
       "    }\n",
       "</style>\n",
       "<table border=\"1\" class=\"dataframe\">\n",
       "  <thead>\n",
       "    <tr style=\"text-align: right;\">\n",
       "      <th></th>\n",
       "      <th>CreditScore</th>\n",
       "      <th>Geography</th>\n",
       "      <th>Gender</th>\n",
       "      <th>Age</th>\n",
       "      <th>Tenure</th>\n",
       "      <th>Balance</th>\n",
       "      <th>NumOfProducts</th>\n",
       "      <th>HasCrCard</th>\n",
       "      <th>IsActiveMember</th>\n",
       "      <th>EstimatedSalary</th>\n",
       "      <th>Exited</th>\n",
       "    </tr>\n",
       "  </thead>\n",
       "  <tbody>\n",
       "    <tr>\n",
       "      <th>0</th>\n",
       "      <td>619</td>\n",
       "      <td>France</td>\n",
       "      <td>Female</td>\n",
       "      <td>42</td>\n",
       "      <td>2</td>\n",
       "      <td>0.00</td>\n",
       "      <td>1</td>\n",
       "      <td>1</td>\n",
       "      <td>1</td>\n",
       "      <td>101348.88</td>\n",
       "      <td>1</td>\n",
       "    </tr>\n",
       "    <tr>\n",
       "      <th>1</th>\n",
       "      <td>608</td>\n",
       "      <td>Spain</td>\n",
       "      <td>Female</td>\n",
       "      <td>41</td>\n",
       "      <td>1</td>\n",
       "      <td>83807.86</td>\n",
       "      <td>1</td>\n",
       "      <td>0</td>\n",
       "      <td>1</td>\n",
       "      <td>112542.58</td>\n",
       "      <td>0</td>\n",
       "    </tr>\n",
       "    <tr>\n",
       "      <th>2</th>\n",
       "      <td>502</td>\n",
       "      <td>France</td>\n",
       "      <td>Female</td>\n",
       "      <td>42</td>\n",
       "      <td>8</td>\n",
       "      <td>159660.80</td>\n",
       "      <td>3</td>\n",
       "      <td>1</td>\n",
       "      <td>0</td>\n",
       "      <td>113931.57</td>\n",
       "      <td>1</td>\n",
       "    </tr>\n",
       "  </tbody>\n",
       "</table>\n",
       "</div>"
      ],
      "text/plain": [
       "   CreditScore Geography  Gender  Age  Tenure    Balance  NumOfProducts  \\\n",
       "0          619    France  Female   42       2       0.00              1   \n",
       "1          608     Spain  Female   41       1   83807.86              1   \n",
       "2          502    France  Female   42       8  159660.80              3   \n",
       "\n",
       "   HasCrCard  IsActiveMember  EstimatedSalary  Exited  \n",
       "0          1               1        101348.88       1  \n",
       "1          0               1        112542.58       0  \n",
       "2          1               0        113931.57       1  "
      ]
     },
     "execution_count": 13,
     "metadata": {},
     "output_type": "execute_result"
    }
   ],
   "source": [
    "## Supprimer les doublons éventuels contenu dans le jeu de données\n",
    "# Code y afférent ici\n",
    "data_quant = data_quant.drop_duplicates()\n",
    "data_quant.head(3)"
   ]
  },
  {
   "cell_type": "markdown",
   "id": "63cfb4ba",
   "metadata": {},
   "source": [
    "#### II.2 Données manquantes"
   ]
  },
  {
   "cell_type": "code",
   "execution_count": 14,
   "id": "e20f3030",
   "metadata": {},
   "outputs": [
    {
     "data": {
      "text/plain": [
       "CreditScore        0\n",
       "Geography          0\n",
       "Gender             0\n",
       "Age                0\n",
       "Tenure             0\n",
       "Balance            0\n",
       "NumOfProducts      0\n",
       "HasCrCard          0\n",
       "IsActiveMember     0\n",
       "EstimatedSalary    0\n",
       "Exited             0\n",
       "dtype: int64"
      ]
     },
     "execution_count": 14,
     "metadata": {},
     "output_type": "execute_result"
    }
   ],
   "source": [
    "# Le jeu de données comporte-t-il des données manquantes ? \n",
    "#NoN\n",
    "# Conseil: Afficher le nombre de valeurs manquantes par variable\n",
    "# Code y afférent ici: \n",
    "data_quant.isna().sum(axis = 0)"
   ]
  },
  {
   "cell_type": "code",
   "execution_count": 15,
   "id": "6b18ad7c",
   "metadata": {},
   "outputs": [],
   "source": [
    "# Au cas où, il y aurait des données manquantes, quelle méthode d'imputation\n",
    "# préconisez - vous ? Indiquez la méthode préconisée par (type) variable."
   ]
  },
  {
   "cell_type": "markdown",
   "id": "f79563cb",
   "metadata": {},
   "source": [
    "#### II.3 Encodage"
   ]
  },
  {
   "cell_type": "code",
   "execution_count": 16,
   "id": "2b02a81f",
   "metadata": {},
   "outputs": [],
   "source": [
    "# Le jeu de données comporte-t-il des variables qualitatives ?\n",
    "# Si oui, lesquelles ? (les énumérer éventuellement ci-dessous):\n",
    "# Variables qualitatives: Geography, age)"
   ]
  },
  {
   "cell_type": "code",
   "execution_count": 17,
   "id": "c7d1c934",
   "metadata": {},
   "outputs": [],
   "source": [
    "# Précisez la méthode d'encodage que vous préconisez pour chacune de vos\n",
    "# variables qualitatives. One_hot_encoder\n",
    "\n",
    "#N.B.: Vous pouvez regrouper les variables devant être encodées pareillement\n",
    "#nominal_features = Geography\" = One_hot_Encoder\n",
    "#ordinal_features = Gender = OrdinalEncoder"
   ]
  },
  {
   "cell_type": "markdown",
   "id": "cccaee7b",
   "metadata": {},
   "source": [
    "#### II.4 Normalisation"
   ]
  },
  {
   "cell_type": "code",
   "execution_count": 18,
   "id": "4cdd4802",
   "metadata": {},
   "outputs": [
    {
     "ename": "NameError",
     "evalue": "name 'CreditScore' is not defined",
     "output_type": "error",
     "traceback": [
      "\u001b[1;31m---------------------------------------------------------------------------\u001b[0m",
      "\u001b[1;31mNameError\u001b[0m                                 Traceback (most recent call last)",
      "\u001b[1;32m~\\AppData\\Local\\Temp/ipykernel_18592/1308881059.py\u001b[0m in \u001b[0;36m<module>\u001b[1;34m\u001b[0m\n\u001b[0;32m      1\u001b[0m \u001b[1;31m# Le jeu de données comporte-t-il des variables quantitatives ?\u001b[0m\u001b[1;33m\u001b[0m\u001b[1;33m\u001b[0m\u001b[0m\n\u001b[0;32m      2\u001b[0m \u001b[1;31m# Si oui, lesquelles ? (les énumérer éventuellement ci-dessous):\u001b[0m\u001b[1;33m\u001b[0m\u001b[1;33m\u001b[0m\u001b[0m\n\u001b[1;32m----> 3\u001b[1;33m \u001b[0mCreditScore\u001b[0m\u001b[1;33m\u001b[0m\u001b[1;33m\u001b[0m\u001b[0m\n\u001b[0m\u001b[0;32m      4\u001b[0m \u001b[0mAge\u001b[0m\u001b[1;33m\u001b[0m\u001b[1;33m\u001b[0m\u001b[0m\n\u001b[0;32m      5\u001b[0m \u001b[0mTenure\u001b[0m\u001b[1;33m\u001b[0m\u001b[1;33m\u001b[0m\u001b[0m\n",
      "\u001b[1;31mNameError\u001b[0m: name 'CreditScore' is not defined"
     ]
    }
   ],
   "source": [
    "# Le jeu de données comporte-t-il des variables quantitatives ?\n",
    "# Si oui, lesquelles ? (les énumérer éventuellement ci-dessous):\n",
    "CreditScore                     \n",
    "Age               \n",
    "Tenure             \n",
    "Balance            \n",
    "NumOfProducts      \n",
    "HasCrCard          \n",
    "IsActiveMember     \n",
    "EstimatedSalary    "
   ]
  },
  {
   "cell_type": "code",
   "execution_count": 19,
   "id": "46940ac3",
   "metadata": {},
   "outputs": [],
   "source": [
    "# Précisez et justifiez la technique de normalisation que vous préconisez\n",
    "# pour chacune de vos variables quantitatives. \n",
    "#Age : MinMaxScalaer:Cette technique met à l'échelle les valeurs dans une plage comprise entre 0 et 1. \n",
    "#creditScore:standardScaler\n",
    "#tenure:standardscaler\n",
    "#balance:standard scaler\n",
    "#NumOfProduct:MinMaxScaler\n",
    "#HasCrCard:MInmaxscaler"
   ]
  },
  {
   "cell_type": "markdown",
   "id": "6cae72c2",
   "metadata": {},
   "source": [
    "#### II.5 Partionnement du jeu de données"
   ]
  },
  {
   "cell_type": "code",
   "execution_count": 30,
   "id": "1dd7af83",
   "metadata": {},
   "outputs": [],
   "source": [
    "# Partitionnez votre jeu de données de manière à avoir:\n",
    "# 80% et 20% pour les données d'apprentissage et de test respectivement\n",
    "# Ecrire le code y afférent ici:\n",
    "X = data_quant.iloc[:, :-1]\n",
    "y = data_quant.iloc[:, -1]"
   ]
  },
  {
   "cell_type": "code",
   "execution_count": 31,
   "id": "949935e6",
   "metadata": {},
   "outputs": [],
   "source": [
    "X_train, X_test, y_train, y_test = train_test_split(X, y, test_size = 0.2, random_state = 0)"
   ]
  },
  {
   "cell_type": "code",
   "execution_count": null,
   "id": "71004fbe",
   "metadata": {},
   "outputs": [],
   "source": []
  },
  {
   "cell_type": "markdown",
   "id": "4ebc5c5b",
   "metadata": {},
   "source": [
    "#### II.6 Construction d'un pipeline"
   ]
  },
  {
   "cell_type": "code",
   "execution_count": 32,
   "id": "cd1e67ee",
   "metadata": {},
   "outputs": [
    {
     "data": {
      "text/plain": [
       "(8000, 11)"
      ]
     },
     "execution_count": 32,
     "metadata": {},
     "output_type": "execute_result"
    }
   ],
   "source": [
    "# Construire un pipeline pour réaliser le pré-traitement des données\n",
    "# conformément aux résultats des précédentes questions\n",
    "numerical_features = make_column_selector(dtype_include = np.number)\n",
    "nominal_features  = make_column_selector(dtype_exclude = np.number)\n",
    "\n",
    "nominal_pipeline = make_pipeline(SimpleImputer(strategy = \"most_frequent\"),\n",
    "                                OneHotEncoder(drop = \"first\")\n",
    "                                )\n",
    "\n",
    "numerical_pipeline = make_pipeline(KNNImputer(n_neighbors = 5),\n",
    "                                  RobustScaler()\n",
    "                                  )\n",
    "preprocessor = make_column_transformer((nominal_pipeline, nominal_features),\n",
    "                                       (numerical_pipeline, numerical_features)\n",
    "                                       )\n",
    "X_train = preprocessor.fit_transform(X_train)\n",
    "\n",
    "X_train.shape"
   ]
  },
  {
   "cell_type": "markdown",
   "id": "fb7d8ed7",
   "metadata": {},
   "source": [
    "### III. MODELISATION"
   ]
  },
  {
   "cell_type": "markdown",
   "id": "3573f42d",
   "metadata": {},
   "source": [
    "#### III.1 Choix de la métrique"
   ]
  },
  {
   "cell_type": "code",
   "execution_count": 14,
   "id": "0b2bb909",
   "metadata": {},
   "outputs": [],
   "source": [
    "# Indiquez et justifiez la métrique qui vous semble la plus appropriée\n",
    "# Ici:Accuracy"
   ]
  },
  {
   "cell_type": "markdown",
   "id": "4517f6c2",
   "metadata": {},
   "source": [
    "#### III.2 KNN"
   ]
  },
  {
   "cell_type": "code",
   "execution_count": 54,
   "id": "73c8d32e",
   "metadata": {},
   "outputs": [],
   "source": [
    "# Réaliser une validation croisée (avec cv = 5) tout en optimisant \n",
    "# au moins 2 hyper-paramètres du modéle KNN\n",
    "\n",
    "# N.B.: 1- Songez à utiliser la classe: \"GridSearchCV\" du module \n",
    "#          \"sklearn.model_selection\"\n",
    "#       2- Vous devez préciser: le nombre de validation croisée (cv = 5),\n",
    "#          la métrique utilisée (à travers le paramètre \"scoring\") ainsi que\n",
    "#          les hyper-paramètres\n",
    "# Définis les hyperparamètres à tester pour le modèle KNN\n",
    "param_grid = {\n",
    "    'n_neighbors': np.arange(1, 51, 2),  # Nombre de voisins à considérer\n",
    "    'weights': ['uniform', 'distance']  # Type de pondération\n",
    "}\n",
    "\n"
   ]
  },
  {
   "cell_type": "code",
   "execution_count": 55,
   "id": "2a4f213f",
   "metadata": {},
   "outputs": [],
   "source": [
    "# Créez une instance du classifieur KNeighborsClassifier\n",
    "knn = KNeighborsClassifier()\n",
    "\n",
    "# Définissez une instance de GridSearchCV pour la validation croisée\n",
    "cv = GridSearchCV(knn, param_grid, cv=5, scoring='accuracy')\n"
   ]
  },
  {
   "cell_type": "code",
   "execution_count": 56,
   "id": "f77119f1",
   "metadata": {},
   "outputs": [
    {
     "data": {
      "text/plain": [
       "GridSearchCV(cv=5, estimator=KNeighborsClassifier(),\n",
       "             param_grid={'n_neighbors': array([ 1,  3,  5,  7,  9, 11, 13, 15, 17, 19, 21, 23, 25, 27, 29, 31, 33,\n",
       "       35, 37, 39, 41, 43, 45, 47, 49]),\n",
       "                         'weights': ['uniform', 'distance']},\n",
       "             scoring='accuracy')"
      ]
     },
     "execution_count": 56,
     "metadata": {},
     "output_type": "execute_result"
    }
   ],
   "source": [
    "# Entrainez le modèle KNN avec les différents hyperparamètres et évaluez ses performances\n",
    "cv.fit(X_train,y_train)"
   ]
  },
  {
   "cell_type": "code",
   "execution_count": 65,
   "id": "6089d1e4",
   "metadata": {},
   "outputs": [],
   "source": [
    "#KNN.best= cv.best_estimators\n",
    "#y_pred = KNN_best.predict(X_test)\n",
    "#KNN_accuracy = accurancy_score(y_pred,y_test)"
   ]
  },
  {
   "cell_type": "code",
   "execution_count": 57,
   "id": "676a6a70",
   "metadata": {},
   "outputs": [
    {
     "name": "stdout",
     "output_type": "stream",
     "text": [
      "Meilleurs hyperparamètres: {'n_neighbors': 25, 'weights': 'distance'}\n",
      "Meilleur score d'exactitude: 0.8408749999999999\n"
     ]
    }
   ],
   "source": [
    "# Récupérez les meilleurs hyperparamètres et le meilleur score\n",
    "best_params = cv.best_params_\n",
    "best_score = cv.best_score_\n",
    "\n",
    "# Affichez les meilleurs hyperparamètres et le meilleur score\n",
    "print(\"Meilleurs hyperparamètres:\", best_params)\n",
    "print(\"Meilleur score d'exactitude:\", best_score)\n"
   ]
  },
  {
   "cell_type": "code",
   "execution_count": 58,
   "id": "c2660241",
   "metadata": {},
   "outputs": [],
   "source": [
    "# Quels sont les meilleurs hyper-paramètres au sens de la métrique retenue ?\n",
    "# Meilleurs hyperparamètres: {'n_neighbors': 27, 'weights': 'uniform'}\n",
    "# N.B.: Vous pourriez utiliser la méthode \"best_params_\""
   ]
  },
  {
   "cell_type": "code",
   "execution_count": 17,
   "id": "7b9beee2",
   "metadata": {},
   "outputs": [],
   "source": [
    "# Quels sont les performances affichées par le meilleur modèle KNN sur les \n",
    "# données de test ?asZ\n",
    "\n",
    "#Meilleur score d'exactitude: 0.8408749999999999\n",
    "# N.B.: Vous pourriez utiliser les méthodes \"best_estimator_\" & \"score\""
   ]
  },
  {
   "cell_type": "markdown",
   "id": "c89cee47",
   "metadata": {},
   "source": [
    "#### III.3 Arbres binaires"
   ]
  },
  {
   "cell_type": "code",
   "execution_count": 70,
   "id": "eb28e862",
   "metadata": {},
   "outputs": [],
   "source": [
    "# Réaliser une validation croisée (avec cv = 5) tout en optimisant \n",
    "# au moins 2 hyper-paramètres des arbres binaires\n",
    "\n",
    "# N.B.: 1- Songez à utiliser la classe: \"GridSearchCV\" du module \n",
    "#          \"sklearn.model_selection\"\n",
    "#       2- Vous devez préciser: le nombre de validation croisée (cv = 5),\n",
    "#          la métrique utilisée (à travers le paramètre \"scoring\") ainsi que\n",
    "#          les hyper-paramètres\n",
    "\n",
    "# Définissez les hyperparamètres à tester pour le modèle Decision Tree\n",
    "param_grid = {\n",
    "    'criterion': ['gini', 'entropy'],  # Critère de division des noeuds\n",
    "    'max_depth': range(2, 21),  # Profondeur maximale des arbres\n",
    "}\n"
   ]
  },
  {
   "cell_type": "code",
   "execution_count": 71,
   "id": "a87bf010",
   "metadata": {},
   "outputs": [],
   "source": [
    "\n",
    "dt = DecisionTreeClassifier()\n",
    "\n",
    "\n",
    "cv = GridSearchCV(dt, param_grid, cv=5, scoring='accuracy')\n"
   ]
  },
  {
   "cell_type": "code",
   "execution_count": 72,
   "id": "8fbdd647",
   "metadata": {},
   "outputs": [
    {
     "data": {
      "text/plain": [
       "GridSearchCV(cv=5, estimator=DecisionTreeClassifier(),\n",
       "             param_grid={'criterion': ['gini', 'entropy'],\n",
       "                         'max_depth': range(2, 21)},\n",
       "             scoring='accuracy')"
      ]
     },
     "execution_count": 72,
     "metadata": {},
     "output_type": "execute_result"
    }
   ],
   "source": [
    "# Entrainez le modèle Decision Tree avec les différents hyperparamètres et évaluez ses performances\n",
    "cv.fit(X_train,y_train)"
   ]
  },
  {
   "cell_type": "code",
   "execution_count": 73,
   "id": "b292d025",
   "metadata": {},
   "outputs": [
    {
     "name": "stdout",
     "output_type": "stream",
     "text": [
      "Meilleurs hyperparamètres: {'criterion': 'gini', 'max_depth': 6}\n",
      "Meilleur score d'exactitude: 0.858125\n"
     ]
    }
   ],
   "source": [
    "\n",
    "best_params = cv.best_params_\n",
    "best_score = cv.best_score_\n",
    "\n",
    "print(\"Meilleurs hyperparamètres:\", best_params)\n",
    "print(\"Meilleur score d'exactitude:\", best_score)\n"
   ]
  },
  {
   "cell_type": "code",
   "execution_count": 20,
   "id": "6b985e60",
   "metadata": {},
   "outputs": [],
   "source": [
    "# Quels sont les meilleurs hyper-paramètres au sens de la métrique retenue ?\n",
    "\n",
    "#Meilleurs hyperparamètres: {'criterion': 'gini', 'max_depth': 6}\n",
    "    \n",
    "# N.B.: Vous pourriez utiliser la méthode \"best_params_\""
   ]
  },
  {
   "cell_type": "code",
   "execution_count": 23,
   "id": "a285ff7c",
   "metadata": {},
   "outputs": [],
   "source": [
    "# Quels sont les performances affichées par le meilleur modèle KNN sur les \n",
    "# données de test ?\n",
    "\n",
    "#Meilleur score d'exactitude: 0.858125\n",
    "\n",
    "# N.B.: Vous pourriez utiliser les méthodes \"best_estimator_\" & \"score\""
   ]
  },
  {
   "cell_type": "markdown",
   "id": "b68ea3a6",
   "metadata": {},
   "source": [
    "#### III.4 Forêts aléatoires"
   ]
  },
  {
   "cell_type": "code",
   "execution_count": 66,
   "id": "75c6fd96",
   "metadata": {},
   "outputs": [],
   "source": [
    "# Réaliser une validation croisée (avec cv = 5) tout en optimisant \n",
    "# au moins 2 hyper-paramètres des forêts aléatoires\n",
    "\n",
    "# N.B.: 1- Songez à utiliser la classe: \"GridSearchCV\" du module \n",
    "#          \"sklearn.model_selection\"\n",
    "#       2- Vous devez préciser: le nombre de validation croisée (cv = 5),\n",
    "#          la métrique utilisée (à travers le paramètre \"scoring\") ainsi que\n",
    "#          les hyper-paramètres\n",
    "\n",
    "from sklearn.ensemble import RandomForestClassifier\n",
    "\n",
    "# Définis les hyperparamètres à tester pour le modèle Random Forest\n",
    "param_grid = {\n",
    "    'n_estimators': range(100, 301, 50),  # Nombre d'arbres décisionnels\n",
    "    'max_depth': range(2, 11, 2),  # Profondeur maximale des arbres\n",
    "}\n"
   ]
  },
  {
   "cell_type": "code",
   "execution_count": 67,
   "id": "492cd2a1",
   "metadata": {},
   "outputs": [],
   "source": [
    "\n",
    "rf = RandomForestClassifier()\n",
    "\n",
    "# Définissez une instance de GridSearchCV pour la validation croisée\n",
    "cv = GridSearchCV(rf, param_grid, cv=5, scoring='accuracy')\n"
   ]
  },
  {
   "cell_type": "code",
   "execution_count": 68,
   "id": "a94dc576",
   "metadata": {},
   "outputs": [
    {
     "data": {
      "text/plain": [
       "GridSearchCV(cv=5, estimator=RandomForestClassifier(),\n",
       "             param_grid={'max_depth': range(2, 11, 2),\n",
       "                         'n_estimators': range(100, 301, 50)},\n",
       "             scoring='accuracy')"
      ]
     },
     "execution_count": 68,
     "metadata": {},
     "output_type": "execute_result"
    }
   ],
   "source": [
    "cv.fit(X_train,y_train)"
   ]
  },
  {
   "cell_type": "code",
   "execution_count": 64,
   "id": "50a4e787",
   "metadata": {},
   "outputs": [
    {
     "name": "stdout",
     "output_type": "stream",
     "text": [
      "Meilleurs hyperparamètres: {'max_depth': 10, 'n_estimators': 200}\n",
      "Meilleur score d'exactitude: 0.8632500000000001\n"
     ]
    }
   ],
   "source": [
    "# Récupérez les meilleurs hyperparamètres et le meilleur score\n",
    "best_params = cv.best_params_\n",
    "best_score = cv.best_score_\n",
    "\n",
    "\n",
    "print(\"Meilleurs hyperparamètres:\", best_params)\n",
    "print(\"Meilleur score d'exactitude:\", best_score)\n"
   ]
  },
  {
   "cell_type": "code",
   "execution_count": 21,
   "id": "1fadb4f1",
   "metadata": {},
   "outputs": [],
   "source": [
    "# Quels sont les meilleurs hyper-paramètres au sens de la métrique retenue ?\n",
    "\n",
    "#Meilleurs hyperparamètres: {'max_depth': 10, 'n_estimators': 200}\n",
    "# N.B.: Vous pourriez utiliser la méthode \"best_params_\""
   ]
  },
  {
   "cell_type": "code",
   "execution_count": 24,
   "id": "26212c4e",
   "metadata": {},
   "outputs": [],
   "source": [
    "# Quels sont les performances affichées par le meilleur modèle KNN sur les \n",
    "# données de test ?\n",
    "\n",
    "#Meilleur score d'exactitude: 0.8632500000000001\n",
    "\n",
    "# N.B.: Vous pourriez utiliser les méthodes \"best_estimator_\" & \"score\""
   ]
  },
  {
   "cell_type": "markdown",
   "id": "7e45eef4",
   "metadata": {},
   "source": [
    "#### III.5 Regression logistique"
   ]
  },
  {
   "cell_type": "code",
   "execution_count": 75,
   "id": "4385002b",
   "metadata": {},
   "outputs": [],
   "source": [
    "# Réaliser une validation croisée (avec cv = 5) tout en optimisant \n",
    "# au moins 2 hyper-paramètres de la regression logistique\n",
    "\n",
    "# N.B.: 1- Songez à utiliser la classe: \"GridSearchCV\" du module \n",
    "#          \"sklearn.model_selection\"\n",
    "#       2- Vous devez préciser: le nombre de validation croisée (cv = 5),\n",
    "#          la métrique utilisée (à travers le paramètre \"scoring\") ainsi que\n",
    "#          les hyper-paramètres\n",
    "\n",
    "param_grid = {\n",
    "    'C': np.logspace(-5, 2, 10),  # Paramètre de régularisation L2\n",
    "    'solver': ['lbfgs', 'sag']  # Algorithme de résolution\n",
    "}\n"
   ]
  },
  {
   "cell_type": "code",
   "execution_count": 76,
   "id": "4ad4db67",
   "metadata": {},
   "outputs": [],
   "source": [
    "\n",
    "lr = LogisticRegression()\n",
    "\n",
    "cv = GridSearchCV(lr, param_grid, cv=5, scoring='accuracy')\n"
   ]
  },
  {
   "cell_type": "code",
   "execution_count": 77,
   "id": "e69ceb47",
   "metadata": {},
   "outputs": [
    {
     "data": {
      "text/plain": [
       "GridSearchCV(cv=5, estimator=LogisticRegression(),\n",
       "             param_grid={'C': array([1.00000000e-05, 5.99484250e-05, 3.59381366e-04, 2.15443469e-03,\n",
       "       1.29154967e-02, 7.74263683e-02, 4.64158883e-01, 2.78255940e+00,\n",
       "       1.66810054e+01, 1.00000000e+02]),\n",
       "                         'solver': ['lbfgs', 'sag']},\n",
       "             scoring='accuracy')"
      ]
     },
     "execution_count": 77,
     "metadata": {},
     "output_type": "execute_result"
    }
   ],
   "source": [
    "\n",
    "cv.fit(X_train, y_train)\n"
   ]
  },
  {
   "cell_type": "code",
   "execution_count": 78,
   "id": "f8957528",
   "metadata": {},
   "outputs": [
    {
     "name": "stdout",
     "output_type": "stream",
     "text": [
      "Meilleurs hyperparamètres: {'C': 0.0774263682681127, 'solver': 'lbfgs'}\n",
      "Meilleur score d'exactitude: 0.8110000000000002\n"
     ]
    }
   ],
   "source": [
    "\n",
    "best_params = cv.best_params_\n",
    "best_score = cv.best_score_\n",
    "\n",
    "# Affichez les meilleurs hyperparamètres et le meilleur score\n",
    "print(\"Meilleurs hyperparamètres:\", best_params)\n",
    "print(\"Meilleur score d'exactitude:\", best_score)\n"
   ]
  },
  {
   "cell_type": "code",
   "execution_count": 22,
   "id": "770a54f3",
   "metadata": {},
   "outputs": [],
   "source": [
    "# Quels sont les meilleurs hyper-paramètres au sens de la métrique retenue ?\n",
    "\n",
    "# Meilleurs hyperparamètres: {'C': 0.0774263682681127, 'solver': 'lbfgs'}\n",
    "    \n",
    "# N.B.: Vous pourriez utiliser la méthode \"best_params_\""
   ]
  },
  {
   "cell_type": "code",
   "execution_count": 25,
   "id": "bd5de387",
   "metadata": {},
   "outputs": [],
   "source": [
    "# Quels sont les performances affichées par le meilleur modèle KNN sur les \n",
    "# données de test ?\n",
    "\n",
    " # 0.8110000000000002\n",
    "    \n",
    "# N.B.: Vous pourriez utiliser les méthodes \"best_estimator_\" & \"score\""
   ]
  },
  {
   "cell_type": "markdown",
   "id": "9359ef00",
   "metadata": {},
   "source": [
    "#### IV. MEILLEUR MODELE"
   ]
  },
  {
   "cell_type": "code",
   "execution_count": 26,
   "id": "956c80aa",
   "metadata": {},
   "outputs": [],
   "source": [
    "# En fin de compte, quel est le meilleur modèle parmi tous ces modèles ?\n",
    "\n",
    "# forêt aléatoire \n",
    "\n",
    "# Quel en est la performance ?\n",
    "# 0.8632500000000001"
   ]
  },
  {
   "cell_type": "markdown",
   "id": "d1760236",
   "metadata": {},
   "source": [
    "### V. DEEP LEARNING"
   ]
  },
  {
   "cell_type": "markdown",
   "id": "28a0345a",
   "metadata": {},
   "source": [
    "#### V.1 Génération aléatoire des données"
   ]
  },
  {
   "cell_type": "code",
   "execution_count": 56,
   "id": "a783c0ce",
   "metadata": {},
   "outputs": [
    {
     "data": {
      "text/plain": [
       "<matplotlib.collections.PathCollection at 0x19b4f243fd0>"
      ]
     },
     "execution_count": 56,
     "metadata": {},
     "output_type": "execute_result"
    },
    {
     "data": {
      "image/png": "[encoded data removed]",
      "text/plain": [
       "<Figure size 432x288 with 1 Axes>"
      ]
     },
     "metadata": {
      "needs_background": "light"
     },
     "output_type": "display_data"
    }
   ],
   "source": [
    "# Utilisez la fonction \"make_blobs\" du module \"sklearn.datasets\"\n",
    "# pour générer aléatoirement un dataset de 300 observations et \n",
    "# de 2 variables explicatives\n",
    "\n",
    "\n",
    "# Générer 300 observations et 2 variables explicatives\n",
    "X, y = make_blobs(n_samples = 300, n_features = 2, centers = 2, \n",
    "                 random_state = 0\n",
    "                 )\n",
    "y = y.reshape(-1, 1)\n",
    "plt.scatter(X[:, 0], X[:, 1], c = y, cmap = \"summer\")"
   ]
  },
  {
   "cell_type": "code",
   "execution_count": null,
   "id": "681cd554",
   "metadata": {},
   "outputs": [],
   "source": []
  },
  {
   "cell_type": "markdown",
   "id": "17b40ca7",
   "metadata": {},
   "source": [
    "#### V.2 Représentation graphique des données"
   ]
  },
  {
   "cell_type": "code",
   "execution_count": 57,
   "id": "d7315996",
   "metadata": {},
   "outputs": [],
   "source": [
    "# Construire un graphique du type scatter plot à partir des données ci-dessus\n"
   ]
  },
  {
   "cell_type": "markdown",
   "id": "5674e881",
   "metadata": {},
   "source": [
    "#### V.3 Programmation d'un perceptron"
   ]
  },
  {
   "cell_type": "code",
   "execution_count": 28,
   "id": "0936eae0",
   "metadata": {},
   "outputs": [],
   "source": [
    "# Programmez un perceptron permettant de prédire y à partir de X\n",
    "\n",
    "#N.B.: Cette fonction devrait retourner les sorties ci-après:\n",
    "#      - costs: un dictionnaire comportant les coûts du train_set & test_set\n",
    "#      - accuracy: un dictionnaire comportant la performance sur le train_set & test_set\n",
    "#      - W: vecteur de paramètres\n",
    "#      - b: valeur de la constante\n",
    "#      - metrics: calculant plusieurs métriques (accuracy, recall...) sur le test_set\n",
    "\n"
   ]
  },
  {
   "cell_type": "code",
   "execution_count": 59,
   "id": "06c578eb",
   "metadata": {},
   "outputs": [],
   "source": [
    "def starting_point(X):\n",
    "    n_var = X.shape[1]\n",
    "    W = np.random.randn(n_var, 1)\n",
    "    b = np.random.randn(1)\n",
    "    return (W,b)"
   ]
  },
  {
   "cell_type": "code",
   "execution_count": 60,
   "id": "0299b278",
   "metadata": {},
   "outputs": [],
   "source": [
    "def model(X, W, b):\n",
    "    Z = X.dot(W) + b\n",
    "    A = 1/ (1 + np.exp(-Z))\n",
    "    return A\n",
    "    "
   ]
  },
  {
   "cell_type": "code",
   "execution_count": 61,
   "id": "f0021d2a",
   "metadata": {},
   "outputs": [],
   "source": [
    "def predict(X, W, b):\n",
    "    A = model(X, W, b)\n",
    "    \n",
    "    return (A >= 0.5)\n",
    "#C'est pour connaitre la probabilite que y=0 ou y=1\n",
    "\n"
   ]
  },
  {
   "cell_type": "code",
   "execution_count": 62,
   "id": "127c5988",
   "metadata": {},
   "outputs": [],
   "source": [
    "def cost_function(A, y, epsilon = 1e-15):\n",
    "    cost = -1/len(y)*np.sum(y * np.log(A + epsilon) + (1 - y) * np.log(1-A + epsilon))\n",
    "    return cost"
   ]
  },
  {
   "cell_type": "code",
   "execution_count": 63,
   "id": "d15e428e",
   "metadata": {},
   "outputs": [],
   "source": [
    "def compute_gradients(A, X, y):\n",
    "    dW = 1/len(y) * np.dot(X.T, A - y)\n",
    "    db = 1/len(y) * np.sum(A - y)\n",
    "    \n",
    "    return (dW, db)\n",
    "    "
   ]
  },
  {
   "cell_type": "code",
   "execution_count": 64,
   "id": "716d4a09",
   "metadata": {},
   "outputs": [],
   "source": [
    "def move(W, b, dW, db, learning_rate):\n",
    "    W = W - learning_rate * dW\n",
    "    b = b - learning_rate * db\n",
    "    \n",
    "    return (W, b)"
   ]
  },
  {
   "cell_type": "code",
   "execution_count": 71,
   "id": "471a5798",
   "metadata": {},
   "outputs": [],
   "source": [
    "def perceptron(X, y, learning_rate = 0.1, n_cycle = 250):\n",
    "    W, b = starting_point(X)\n",
    "    \n",
    "    cost_list = []\n",
    "    \n",
    "    for i in range(n_cycle):\n",
    "        A = model(X, W, b)\n",
    "        cost = cost_function(A, y)\n",
    "        cost_list.append(cost)\n",
    "        dW, db = compute_gradients(A, X, y)\n",
    "        W, b = move(W, b, dW, db, learning_rate)\n",
    "     \n",
    "    y_pred = predict(X, W, b)\n",
    "    metrics = {}\n",
    "    metrics[\"Accuracy\"] = np.round(accuracy_score(y, y_pred), 2)\n",
    "    metrics[\"precision\"] = np.round(precision_score(y, y_pred), 2)\n",
    "    metrics[\"recall\"] = np.round(recall_score(y, y_pred), 2)\n",
    "    \n",
    "    return (cost_list, W, b, metrics)"
   ]
  },
  {
   "cell_type": "code",
   "execution_count": 72,
   "id": "760a24a0",
   "metadata": {},
   "outputs": [
    {
     "data": {
      "image/png": "[encoded data removed]",
      "text/plain": [
       "<Figure size 432x288 with 1 Axes>"
      ]
     },
     "metadata": {
      "needs_background": "light"
     },
     "output_type": "display_data"
    },
    {
     "name": "stdout",
     "output_type": "stream",
     "text": [
      "{'Accuracy': 0.94, 'precision': 0.96, 'recall': 0.91}\n"
     ]
    }
   ],
   "source": [
    "costs, W, b, metrics = perceptron(X, y)\n",
    "\n",
    "plt.plot(costs)\n",
    "plt.show()\n",
    "print(metrics)"
   ]
  },
  {
   "cell_type": "code",
   "execution_count": 73,
   "id": "f654371a",
   "metadata": {},
   "outputs": [
    {
     "data": {
      "image/png": "[encoded data removed]",
      "text/plain": [
       "<Figure size 432x288 with 1 Axes>"
      ]
     },
     "metadata": {
      "needs_background": "light"
     },
     "output_type": "display_data"
    }
   ],
   "source": [
    "new_obs = np.array([2, 0])\n",
    "x1 = np.linspace(-2, 5, 100)\n",
    "x2 = (-W[0] * x1 - b)/ W[1]\n",
    "\n",
    "plt.scatter(X[:, 0], X[:, 1], c = y, cmap = \"summer\")\n",
    "plt.scatter(new_obs[0], new_obs[1], c = \"red\")\n",
    "plt.plot(x1, x2, c =  \"magenta\", lw = 2.5)\n",
    "plt.show()\n"
   ]
  },
  {
   "cell_type": "code",
   "execution_count": null,
   "id": "73f64636",
   "metadata": {},
   "outputs": [],
   "source": []
  },
  {
   "cell_type": "code",
   "execution_count": 23,
   "id": "f15aea82",
   "metadata": {},
   "outputs": [],
   "source": [
    "# Représentez les coûts (sur le même graphique) et les accuracy pour les \n",
    "# training_set et test_set\n",
    "\n",
    "# Commentez les graphes obtenus"
   ]
  },
  {
   "cell_type": "code",
   "execution_count": 93,
   "id": "ea44cf80",
   "metadata": {},
   "outputs": [],
   "source": [
    "# Représentez à nouveau le graphique du type scatter plot en y rajoutant \n",
    "# la frontière de décision\n"
   ]
  },
  {
   "cell_type": "markdown",
   "id": "979c3744",
   "metadata": {},
   "source": [
    "#### V.4 Programmation d'un réseau de neurone à 2 couches"
   ]
  },
  {
   "cell_type": "code",
   "execution_count": 94,
   "id": "96a94ebb",
   "metadata": {},
   "outputs": [],
   "source": [
    "def neural_network2(X_train, y_train, X_test, y_test, learning_rate = 0.1, n_cycle = 250):\n",
    "    \n",
    "    # Initialisation des paramètres W & b\n",
    "    W, b = starting_point(X_train)\n",
    "    \n",
    "    cost_list_train = []\n",
    "    cost_list_test = []\n",
    "        \n",
    "    accuracy_train = []\n",
    "    accuracy_test = [] \n",
    "    \n",
    "    \n",
    "    # Entraînement du modèle\n",
    "    for i in range(n_cycle):\n",
    "        \n",
    "        # Calcul des fonctions d'activation\n",
    "        A = model(X_train, W, b)\n",
    "        \n",
    "        if (i%5 == 0):\n",
    "            # train_set\n",
    "            cost = cost_function(A, y_train)\n",
    "            cost_list_train.append(cost)\n",
    "            y_pred = predict(X_train, W, b)\n",
    "            acc = accuracy_score(y_train, y_pred)\n",
    "            accuracy_train.append(acc)\n",
    "            \n",
    "            # test_set\n",
    "            A_test = model(X_test, W, b)\n",
    "            cost = cost_function(A_test, y_test)\n",
    "            cost_list_test.append(cost)\n",
    "            y_pred = predict(X_test, W, b)\n",
    "            acc = accuracy_score(y_test, y_pred)\n",
    "            accuracy_test.append(acc)\n",
    "        \n",
    "        # Déplacement dans l'espace engendré par W & b        \n",
    "        dW, db = compute_gradients(A, X_train, y_train)\n",
    "        W, b = move(W, b, dW, db, learning_rate)\n",
    "        \n",
    "    y_pred = predict(X_test, W, b)\n",
    "    metrics = {}\n",
    "    metrics[\"accuracy\"] = np.round(accuracy_score(y_test, y_pred), 2)\n",
    "    metrics[\"precision\"] = np.round(precision_score(y_test, y_pred), 2)\n",
    "    metrics[\"recall\"] =  np.round(recall_score(y_test, y_pred), 2)\n",
    "    costs_list = {\"train\":cost_list_train, \"test\":cost_list_test}\n",
    "    accuracy_list = {\"train\":accuracy_train, \"test\":accuracy_test}\n",
    "    \n",
    "    return (costs_list, accuracy_list, W, b, metrics)\n"
   ]
  },
  {
   "cell_type": "code",
   "execution_count": 95,
   "id": "08ae6531",
   "metadata": {},
   "outputs": [
    {
     "ename": "TypeError",
     "evalue": "predict() takes 2 positional arguments but 3 were given",
     "output_type": "error",
     "traceback": [
      "\u001b[1;31m---------------------------------------------------------------------------\u001b[0m",
      "\u001b[1;31mTypeError\u001b[0m                                 Traceback (most recent call last)",
      "\u001b[1;32m~\\AppData\\Local\\Temp/ipykernel_18592/324496466.py\u001b[0m in \u001b[0;36m<module>\u001b[1;34m\u001b[0m\n\u001b[0;32m      1\u001b[0m \u001b[0mcosts_list\u001b[0m\u001b[1;33m,\u001b[0m \u001b[0maccuracy_list\u001b[0m\u001b[1;33m,\u001b[0m \u001b[0mW\u001b[0m\u001b[1;33m,\u001b[0m \u001b[0mb\u001b[0m\u001b[1;33m,\u001b[0m \u001b[0mmetrics\u001b[0m \u001b[1;33m=\u001b[0m\u001b[0;31m \u001b[0m\u001b[0;31m\\\u001b[0m\u001b[1;33m\u001b[0m\u001b[1;33m\u001b[0m\u001b[0m\n\u001b[1;32m----> 2\u001b[1;33m   neural_network2(X_train, y_train, X_test, y_test, \n\u001b[0m\u001b[0;32m      3\u001b[0m                   \u001b[0mlearning_rate\u001b[0m \u001b[1;33m=\u001b[0m \u001b[1;36m0.01\u001b[0m\u001b[1;33m,\u001b[0m \u001b[0mn_cycle\u001b[0m \u001b[1;33m=\u001b[0m \u001b[1;36m100\u001b[0m\u001b[1;33m\u001b[0m\u001b[1;33m\u001b[0m\u001b[0m\n\u001b[0;32m      4\u001b[0m                  )\n\u001b[0;32m      5\u001b[0m \u001b[1;33m\u001b[0m\u001b[0m\n",
      "\u001b[1;32m~\\AppData\\Local\\Temp/ipykernel_18592/2749230063.py\u001b[0m in \u001b[0;36mneural_network2\u001b[1;34m(X_train, y_train, X_test, y_test, learning_rate, n_cycle)\u001b[0m\n\u001b[0;32m     21\u001b[0m             \u001b[0mcost\u001b[0m \u001b[1;33m=\u001b[0m \u001b[0mcost_function\u001b[0m\u001b[1;33m(\u001b[0m\u001b[0mA\u001b[0m\u001b[1;33m,\u001b[0m \u001b[0my_train\u001b[0m\u001b[1;33m)\u001b[0m\u001b[1;33m\u001b[0m\u001b[1;33m\u001b[0m\u001b[0m\n\u001b[0;32m     22\u001b[0m             \u001b[0mcost_list_train\u001b[0m\u001b[1;33m.\u001b[0m\u001b[0mappend\u001b[0m\u001b[1;33m(\u001b[0m\u001b[0mcost\u001b[0m\u001b[1;33m)\u001b[0m\u001b[1;33m\u001b[0m\u001b[1;33m\u001b[0m\u001b[0m\n\u001b[1;32m---> 23\u001b[1;33m             \u001b[0my_pred\u001b[0m \u001b[1;33m=\u001b[0m \u001b[0mpredict\u001b[0m\u001b[1;33m(\u001b[0m\u001b[0mX_train\u001b[0m\u001b[1;33m,\u001b[0m \u001b[0mW\u001b[0m\u001b[1;33m,\u001b[0m \u001b[0mb\u001b[0m\u001b[1;33m)\u001b[0m\u001b[1;33m\u001b[0m\u001b[1;33m\u001b[0m\u001b[0m\n\u001b[0m\u001b[0;32m     24\u001b[0m             \u001b[0macc\u001b[0m \u001b[1;33m=\u001b[0m \u001b[0maccuracy_score\u001b[0m\u001b[1;33m(\u001b[0m\u001b[0my_train\u001b[0m\u001b[1;33m,\u001b[0m \u001b[0my_pred\u001b[0m\u001b[1;33m)\u001b[0m\u001b[1;33m\u001b[0m\u001b[1;33m\u001b[0m\u001b[0m\n\u001b[0;32m     25\u001b[0m             \u001b[0maccuracy_train\u001b[0m\u001b[1;33m.\u001b[0m\u001b[0mappend\u001b[0m\u001b[1;33m(\u001b[0m\u001b[0macc\u001b[0m\u001b[1;33m)\u001b[0m\u001b[1;33m\u001b[0m\u001b[1;33m\u001b[0m\u001b[0m\n",
      "\u001b[1;31mTypeError\u001b[0m: predict() takes 2 positional arguments but 3 were given"
     ]
    }
   ],
   "source": [
    "costs_list, accuracy_list, W, b, metrics = \\\n",
    "  neural_network2(X_train, y_train, X_test, y_test, \n",
    "                  learning_rate = 0.01, n_cycle = 100\n",
    "                 )\n",
    "\n",
    "plt.figure(figsize = (12, 6))\n",
    "plt.subplot(1, 2, 1)\n",
    "plt.plot(costs_list[\"train\"], label = \"train data\")\n",
    "plt.plot(costs_list[\"test\"], label = \"test data\")\n",
    "plt.legend()\n",
    "plt.subplot(1, 2, 2)\n",
    "plt.plot(accuracy_list[\"train\"], label = \"train data\")\n",
    "plt.plot(accuracy_list[\"test\"], label = \"test data\")\n",
    "plt.legend()\n"
   ]
  },
  {
   "cell_type": "code",
   "execution_count": 80,
   "id": "40f55c81",
   "metadata": {},
   "outputs": [],
   "source": []
  },
  {
   "cell_type": "code",
   "execution_count": null,
   "id": "dfacfecf",
   "metadata": {},
   "outputs": [],
   "source": []
  },
  {
   "cell_type": "code",
   "execution_count": 34,
   "id": "b4affc0a",
   "metadata": {},
   "outputs": [],
   "source": [
    "# Représentez les coûts (sur le même graphique) et les accuracy pour les \n",
    "# training_set et test_set\n",
    "\n",
    " #Commentez les graphes obtenus"
   ]
  },
  {
   "cell_type": "code",
   "execution_count": 35,
   "id": "c87dbcda",
   "metadata": {},
   "outputs": [],
   "source": [
    "# Représentez à nouveau le graphique du type scatter plot en y rajoutant \n",
    "# la frontière de décision"
   ]
  },
  {
   "cell_type": "markdown",
   "id": "2ed51334",
   "metadata": {},
   "source": [
    "#### V.5 Reconnaissance d'images: chat vs chien"
   ]
  },
  {
   "cell_type": "code",
   "execution_count": 36,
   "id": "412734c2",
   "metadata": {},
   "outputs": [],
   "source": [
    "# Utilisez le réseau de neurones ci-dessus pour distinguer les chats des chiens\n",
    "# à l'aide du jeu de données à votre disposition\n"
   ]
  },
  {
   "cell_type": "code",
   "execution_count": null,
   "id": "74b00b46",
   "metadata": {},
   "outputs": [],
   "source": [
    "# Représentez les coûts (sur le même graphique) et les accuracy pour les \n",
    "# training_set et test_set\n",
    "\n",
    "# Commentez les graphes obtenus"
   ]
  }
 ],
 "metadata": {
  "kernelspec": {
   "display_name": "Python 3 (ipykernel)",
   "language": "python",
   "name": "python3"
  },
  "language_info": {
   "codemirror_mode": {
    "name": "ipython",
    "version": 3
   },
   "file_extension": ".py",
   "mimetype": "text/x-python",
   "name": "python",
   "nbconvert_exporter": "python",
   "pygments_lexer": "ipython3",
   "version": "3.9.7"
  }
 },
 "nbformat": 4,
 "nbformat_minor": 5
}
